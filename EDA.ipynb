#Loading Data & Initial Inspection

import pandas as pd
import matplotlib.pyplot as plt
import seaborn as sns

#Load the dataset
df = pd.read_csv('network_traffic_expanded.csv')

#Overview of the data
print(df.info())
print(df.describe())

#Check for missing values
print("Missing values per column:\n", df.isnull().sum())


#Data Summary - Let’s get a high-level view of the data, including the types of variables and summary statistics.

#Display first few rows of the dataset
df.head()

#Observations:

#We have 15 features including the target variable traffic and additional network-related features such as signal_strength, latency, etc.

#Check if there are any missing values.

# Univariate Analysis: Distribution of Features
# We will visualize the distribution of each variable using histograms, box plots, and violin plots. This helps identify skewness, outliers, and possible transformations needed.

# Set up the plot for multiple features
plt.figure(figsize=(20, 15))

# Plot histograms for numerical features
df.hist(bins=20, figsize=(20, 15), edgecolor='black')
plt.suptitle('Distribution of Features', fontsize=16)
plt.tight_layout()
plt.show()

# Box plots for detecting outliers
plt.figure(figsize=(20, 10))
sns.boxplot(data=df, orient='h', palette='Set2')
plt.title('Boxplot of Features (Outliers)', fontsize=16)
plt.show()
